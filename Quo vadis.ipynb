{
 "cells": [
  {
   "cell_type": "code",
   "execution_count": null,
   "metadata": {},
   "outputs": [],
   "source": [
    "plik = open(\"C:/Users/PawelEkk-Cierniakows/Documents/Quo-vadis/quo-vadis.txt\", \"r\", encoding=\"utf-8\")\n",
    "quo_vadis=plik.read()"
   ]
  },
  {
   "cell_type": "code",
   "execution_count": null,
   "metadata": {},
   "outputs": [],
   "source": [
    "quo_vadis"
   ]
  },
  {
   "cell_type": "code",
   "execution_count": null,
   "metadata": {},
   "outputs": [],
   "source": [
    "from collections import Counter\n",
    "import nltk\n",
    "from nltk.tokenize import RegexpTokenizer\n",
    "tokenizer = RegexpTokenizer(r'\\w+')\n",
    "quo_vadis_slowa=tokenizer.tokenize(quo_vadis)\n",
    "liczba_tokenow = Counter(quo_vadis_slowa)\n",
    "print(liczba_tokenow.most_common(20))"
   ]
  },
  {
   "cell_type": "code",
   "execution_count": null,
   "metadata": {},
   "outputs": [],
   "source": [
    "bohaterowie=[\"Winicjusz\",\"Marek\",\"Mark\",\"Ligi\",\"Kallin\",\"Petroniusz\",\"Ursus\",\"Nero\",\"Glaukus\",\"Kryspus\",\"Eunice\",\"Akte\",\"Lukan\",\"Paweł\",\"Pawł\",\"Piotr\",\"Pizon\",\"Tygellin\",\"Wespazjan\",\"Westynus\",\"Chilonides\"]"
   ]
  },
  {
   "cell_type": "code",
   "execution_count": null,
   "metadata": {},
   "outputs": [],
   "source": [
    "bohaterowie_no=[]\n",
    "for bohater in bohaterowie:\n",
    "    bohaterowie_odmiany=[t for t in quo_vadis_slowa if bohater in t]\n",
    "    bohaterowie_no.append(len(bohaterowie_odmiany))"
   ]
  },
  {
   "cell_type": "code",
   "execution_count": null,
   "metadata": {},
   "outputs": [],
   "source": [
    "import pandas as pd\n",
    "bohaterowie_wystepowanie=pd.DataFrame(bohaterowie_no,bohaterowie).reset_index()\n",
    "bohaterowie_wystepowanie=bohaterowie_wystepowanie.rename(columns={'index':'bohater', 0:'liczba'})\n",
    "bohaterowie_wystepowanie"
   ]
  },
  {
   "cell_type": "code",
   "execution_count": null,
   "metadata": {},
   "outputs": [],
   "source": [
    "male_litery=[t.lower() for t in quo_vadis_slowa]\n",
    "liczba_tokenow = Counter(male_litery)\n",
    "print(liczba_tokenow.most_common(20))"
   ]
  },
  {
   "cell_type": "code",
   "execution_count": null,
   "metadata": {},
   "outputs": [],
   "source": [
    "file = open(\"C:/Users/PawelEkk-Cierniakows/Documents/polish_stopwords.txt\", \"r\",encoding=\"utf8\")\n",
    "stopwords=file.read().split()"
   ]
  },
  {
   "cell_type": "code",
   "execution_count": null,
   "metadata": {},
   "outputs": [],
   "source": [
    "no_stops=[t for t in male_litery if t not in stopwords]\n",
    "liczba_tokenow = Counter(no_stops)\n",
    "print(liczba_tokenow.most_common(50))"
   ]
  },
  {
   "cell_type": "code",
   "execution_count": null,
   "metadata": {},
   "outputs": [],
   "source": [
    "lemat=pd.read_csv(\"C:/Users/PawelEkk-Cierniakows/Documents/Quo-vadis/polimorfologik-2.1/polimorfologik-2.1.txt\",delimiter = ';',header=None)"
   ]
  },
  {
   "cell_type": "code",
   "execution_count": null,
   "metadata": {},
   "outputs": [],
   "source": [
    "lemat"
   ]
  },
  {
   "cell_type": "code",
   "execution_count": null,
   "metadata": {},
   "outputs": [],
   "source": [
    "bohaterowie=['eunice','tygellin','aulus','lukan','pizon','pomponia','poppea','westynus','glaukus','kryspus','chilon','gulo']\n",
    "bohaterowie_slowa=[]\n",
    "bohaterowie_lematy=[]\n",
    "for bohater in bohaterowie:\n",
    "    bohaterowie_lematy.extend([bohater]*len(set([t for t in male_litery if bohater in t])))\n",
    "    bohaterowie_slowa.extend(set([t for t in male_litery if bohater in t]))\n",
    "bohaterowie_slowa.extend(['akte'])\n",
    "bohaterowie_lematy.extend(['akte'])"
   ]
  },
  {
   "cell_type": "code",
   "execution_count": null,
   "metadata": {},
   "outputs": [],
   "source": [
    "bohaterowie_slowa,bohaterowie_lematy"
   ]
  },
  {
   "cell_type": "code",
   "execution_count": null,
   "metadata": {},
   "outputs": [],
   "source": [
    "imiona={'slowo':bohaterowie_slowa,'lemat':bohaterowie_lematy}\n",
    "bohaterowie_lemat=pd.DataFrame.from_dict(imiona)"
   ]
  },
  {
   "cell_type": "code",
   "execution_count": null,
   "metadata": {},
   "outputs": [],
   "source": [
    "bohaterowie_lemat"
   ]
  },
  {
   "cell_type": "code",
   "execution_count": null,
   "metadata": {},
   "outputs": [],
   "source": [
    "slowa=pd.DataFrame(no_stops,columns=[\"slowo\"])\n",
    "lemat.columns=(\"lemat\",\"slowo\",\"x\")\n",
    "lemat=lemat.loc[:,[\"lemat\",\"slowo\"]]\n",
    "lemat[\"lemat\"]=lemat[\"lemat\"].str.lower()\n",
    "lemat[\"slowo\"]=lemat[\"slowo\"].str.lower()\n",
    "lemat=pd.concat([lemat,bohaterowie_lemat],0)"
   ]
  },
  {
   "cell_type": "code",
   "execution_count": null,
   "metadata": {},
   "outputs": [],
   "source": [
    "lemat.tail()"
   ]
  },
  {
   "cell_type": "code",
   "execution_count": null,
   "metadata": {},
   "outputs": [],
   "source": [
    "lemm=slowa.merge(lemat,how='left')\n",
    "lemm=lemm.dropna()\n",
    "lemm=lemm.reset_index().drop('index',1)\n",
    "quovadis_slowa=lemm[\"lemat\"]"
   ]
  },
  {
   "cell_type": "code",
   "execution_count": null,
   "metadata": {},
   "outputs": [],
   "source": [
    "liczba_tokenow = Counter(quovadis_slowa)\n",
    "liczba_tokenow_df = pd.DataFrame.from_dict(liczba_tokenow, orient='index').reset_index()\n",
    "liczba_tokenow_df=liczba_tokenow_df.rename(columns={'index':'slowo', 0:'liczba'})\n",
    "liczba_tokenow_df=liczba_tokenow_df.sort_values(by=['liczba'],ascending=False).head(20)\n",
    "liczba_tokenow_df.plot(kind=\"bar\",x='slowo',y='liczba',legend=False)"
   ]
  },
  {
   "cell_type": "code",
   "execution_count": null,
   "metadata": {},
   "outputs": [],
   "source": [
    "from wordcloud import WordCloud"
   ]
  },
  {
   "cell_type": "code",
   "execution_count": null,
   "metadata": {},
   "outputs": [],
   "source": [
    "wc=WordCloud(width=1600, height=800,background_color=\"white\", max_words=2000, contour_width=10, contour_color='steelblue')"
   ]
  },
  {
   "cell_type": "code",
   "execution_count": null,
   "metadata": {},
   "outputs": [],
   "source": [
    "liczba_tokenow_df = pd.DataFrame.from_dict(liczba_tokenow, orient='index').reset_index()\n",
    "liczba_tokenow_df=liczba_tokenow_df.rename(columns={'index':'slowo', 0:'liczba'})\n",
    "liczba_tokenow_df=liczba_tokenow_df.dropna()\n",
    "d = {}\n",
    "for a, x in liczba_tokenow_df.values:\n",
    "    d[a] = x"
   ]
  },
  {
   "cell_type": "code",
   "execution_count": null,
   "metadata": {},
   "outputs": [],
   "source": [
    "import matplotlib.pyplot as plt\n",
    "wc.generate_from_frequencies(d)\n",
    "plt.figure(figsize=(20,10))\n",
    "plt.imshow(wc)\n",
    "plt.axis('off')\n",
    "plt.tight_layout(pad=0)"
   ]
  },
  {
   "cell_type": "code",
   "execution_count": null,
   "metadata": {},
   "outputs": [],
   "source": [
    "type(quovadis_slowa)"
   ]
  },
  {
   "cell_type": "code",
   "execution_count": null,
   "metadata": {},
   "outputs": [],
   "source": [
    "from IPython.display import clear_output\n",
    "import matplotlib.pyplot as plt\n",
    "from wordcloud import WordCloud\n",
    "bohaterowie=['winicjusz','ligia','petroniusz','akte','nero','ursus','piotr','paweł','eunice','tygellin','aulus','lukan','pizon','pomponia','poppea','seneka','wespazjan','westynus','glaukus','kryspus','chilon','gulo']\n",
    "obszarpowiazan=10\n",
    "wc=WordCloud(width=1600, height=800,background_color=\"white\", max_words=2000, contour_width=10, contour_color='steelblue')\n",
    "chmurybohaterow=[]\n",
    "for bohater in bohaterowie:\n",
    "    chmurabohatera=[]\n",
    "    for nr_wystapienia in range(len(quovadis_slowa[quovadis_slowa==bohater].index)):\n",
    "        obszar=list(quovadis_slowa[quovadis_slowa[quovadis_slowa==bohater].index[nr_wystapienia]-obszarpowiazan:quovadis_slowa[quovadis_slowa==bohater].index[nr_wystapienia]+obszarpowiazan])\n",
    "        chmurabohatera.extend(obszar)\n",
    "        chmurabohatera=[t for t in chmurabohatera if str(t)!='nan']\n",
    "        clear_output()\n",
    "        print(bohater,str(nr_wystapienia))\n",
    "    chmurabohatera=[t for t in chmurabohatera if t not in bohaterowie]\n",
    "    chmurybohaterow.append(chmurabohatera)\n",
    "    liczba_tokenow = Counter(chmurabohatera)\n",
    "    liczba_tokenow_df = pd.DataFrame.from_dict(liczba_tokenow, orient='index').reset_index()\n",
    "    liczba_tokenow_df=liczba_tokenow_df.rename(columns={'index':'slowo', 0:'liczba'})\n",
    "    d = {}\n",
    "    for a, x in liczba_tokenow_df.values:\n",
    "        d[a] = x\n",
    "    wc.generate_from_frequencies(d)\n",
    "    plt.figure(figsize=(20,10))\n",
    "    plt.imshow(wc)\n",
    "    plt.axis('off')\n",
    "    plt.tight_layout(pad=0)"
   ]
  },
  {
   "cell_type": "code",
   "execution_count": null,
   "metadata": {},
   "outputs": [],
   "source": [
    "import gensim\n",
    "from gensim.models.tfidfmodel import TfidfModel\n",
    "from gensim.corpora.dictionary import Dictionary"
   ]
  },
  {
   "cell_type": "code",
   "execution_count": null,
   "metadata": {},
   "outputs": [],
   "source": [
    "dictionarybohaterow=Dictionary(chmurybohaterow)\n",
    "dictionarybohaterow\n",
    "nslowkluczowych=5\n",
    "corpus=[dictionarybohaterow.doc2bow(chmura) for chmura in chmurybohaterow]\n",
    "corpus\n",
    "tfidf=TfidfModel(corpus)\n",
    "slowakluczowebohaterow=[]\n",
    "for i in range(len(corpus)):\n",
    "    tfidf_wagi=tfidf[corpus[i]]\n",
    "    sorted_tfidf_wagi=sorted(tfidf_wagi, key=lambda w: w[1],reverse=True)\n",
    "    slowakluczowebohatera=[]\n",
    "    for slowo_id, waga in sorted_tfidf_wagi[:nslowkluczowych]:\n",
    "        slowakluczowebohatera.extend([dictionarybohaterow.get(slowo_id)])\n",
    "    slowakluczowebohaterow.append(slowakluczowebohatera)"
   ]
  },
  {
   "cell_type": "code",
   "execution_count": null,
   "metadata": {},
   "outputs": [],
   "source": [
    "slowakluczowebohaterow"
   ]
  },
  {
   "cell_type": "code",
   "execution_count": null,
   "metadata": {},
   "outputs": [],
   "source": [
    "slowakluczowebohaterowdf = pd.DataFrame({'Bohater': bohaterowie,'Słowa kluczowe': slowakluczowebohaterow})\n",
    "slowakluczowebohaterowdf"
   ]
  },
  {
   "cell_type": "code",
   "execution_count": null,
   "metadata": {},
   "outputs": [],
   "source": [
    "sentiment=pd.read_csv(\"C:/Users/PawelEkk-Cierniakows/Downloads/nawl-analysis.csv\")"
   ]
  },
  {
   "cell_type": "code",
   "execution_count": null,
   "metadata": {},
   "outputs": [],
   "source": [
    "sentiment"
   ]
  },
  {
   "cell_type": "code",
   "execution_count": null,
   "metadata": {},
   "outputs": [],
   "source": [
    "text_sentiment=pd.merge(lemm,sentiment[[\"word\",\"category\"]],how='left',left_on=[\"lemat\"],right_on=['word'])"
   ]
  },
  {
   "cell_type": "code",
   "execution_count": null,
   "metadata": {},
   "outputs": [],
   "source": [
    "text_sentiment"
   ]
  },
  {
   "cell_type": "code",
   "execution_count": null,
   "metadata": {},
   "outputs": [],
   "source": [
    "quo_vadis_chunks=[]\n",
    "for i in range(0,len(text_sentiment[\"category\"]),250):\n",
    "    quo_vadis_chunks.append(list(text_sentiment[\"category\"][i:i+250]))"
   ]
  },
  {
   "cell_type": "code",
   "execution_count": null,
   "metadata": {},
   "outputs": [],
   "source": [
    "text_sentiment[\"category\"].unique()"
   ]
  },
  {
   "cell_type": "code",
   "execution_count": null,
   "metadata": {},
   "outputs": [],
   "source": [
    "happiness=[chunk.count('H')/len(chunk) for chunk in quo_vadis_chunks]\n",
    "plt.plot(happiness)"
   ]
  },
  {
   "cell_type": "code",
   "execution_count": null,
   "metadata": {},
   "outputs": [],
   "source": [
    "from statsmodels.tsa.api import ExponentialSmoothing"
   ]
  },
  {
   "cell_type": "code",
   "execution_count": null,
   "metadata": {},
   "outputs": [],
   "source": [
    "category_freq=[chunk.count('H')/len(chunk) for chunk in quo_vadis_chunks]\n",
    "plt.figure(figsize=(20,10))\n",
    "plt.plot(ExponentialSmoothing(category_freq).fit().fittedvalues)\n",
    "plt.axis('off')"
   ]
  },
  {
   "cell_type": "code",
   "execution_count": null,
   "metadata": {},
   "outputs": [],
   "source": [
    "fear=[chunk.count('F')/len(chunk) for chunk in quo_vadis_chunks]\n",
    "plt.plot(fear)"
   ]
  },
  {
   "cell_type": "code",
   "execution_count": null,
   "metadata": {},
   "outputs": [],
   "source": [
    "sadness=[chunk.count('S')/len(chunk) for chunk in quo_vadis_chunks]\n",
    "plt.plot(sadness)"
   ]
  },
  {
   "cell_type": "code",
   "execution_count": null,
   "metadata": {},
   "outputs": [],
   "source": [
    "import numpy as np"
   ]
  },
  {
   "cell_type": "code",
   "execution_count": null,
   "metadata": {},
   "outputs": [],
   "source": [
    "from IPython.display import clear_output\n",
    "bohaterowie=['winicjusz','ligia','petroniusz','akte','nero','ursus','piotr','paweł','eunice','tygellin','aulus','lukan','pizon','pomponia','poppea','seneka','wespazjan','westynus','glaukus','kryspus','chilon','gulo']\n",
    "obszarpowiazan=10\n",
    "powiazania = pd.DataFrame(0, index=np.arange(len(bohaterowie)), columns=bohaterowie)\n",
    "for bohater in bohaterowie:\n",
    "    for nr_wystapienia in range(len(text_sentiment.lemat[text_sentiment.lemat==bohater].index)):\n",
    "        obszar=list(text_sentiment.lemat[text_sentiment.lemat[text_sentiment.lemat==bohater].index[nr_wystapienia]-obszarpowiazan:text_sentiment.lemat[text_sentiment.lemat==bohater].index[nr_wystapienia]+obszarpowiazan])\n",
    "        for bohaterpowiazany in bohaterowie:\n",
    "            powiazania.iloc[bohaterowie.index(bohaterpowiazany),bohaterowie.index(bohater)]=powiazania.iloc[bohaterowie.index(bohaterpowiazany),bohaterowie.index(bohater)]+(bohaterpowiazany in obszar)\n",
    "            clear_output()\n",
    "            print(bohater,str(nr_wystapienia))"
   ]
  },
  {
   "cell_type": "code",
   "execution_count": null,
   "metadata": {},
   "outputs": [],
   "source": [
    "powiazania"
   ]
  },
  {
   "cell_type": "code",
   "execution_count": null,
   "metadata": {},
   "outputs": [],
   "source": [
    "import networkx as nx"
   ]
  },
  {
   "cell_type": "code",
   "execution_count": null,
   "metadata": {},
   "outputs": [],
   "source": [
    "bohaterowie=['winicjusz','ligia','petroniusz','akte','nero','ursus','piotr','paweł','eunice','tygellin','aulus','lukan','pizon','pomponia','poppea','seneka','wespazjan','westynus','glaukus','kryspus','chilon','gulo']\n",
    "\n",
    "G=nx.Graph()\n",
    "\n",
    "for i in range(len(powiazania)):\n",
    "    for j in range(len(powiazania)):\n",
    "        if i!=j and powiazania.iloc[i,i]>25 and powiazania.iloc[j,j]>25:\n",
    "            G.add_edge(bohaterowie[j],bohaterowie[i],weight=powiazania.iloc[i,j]/10)\n",
    "\n",
    "pos = nx.spring_layout(G)\n",
    "\n",
    "edges = G.edges()\n",
    "\n",
    "weights = [G[u][v]['weight'] for u,v in edges]\n",
    "\n",
    "plt.figure(figsize=(50,50)) \n",
    "\n",
    "nx.draw_networkx_nodes(G, pos, node_size=0, node_color='white')\n",
    "\n",
    "nx.draw_networkx_edges(G, pos, width=weights, alpha=0.2)    \n",
    "\n",
    "nx.draw_networkx_labels(G, pos, font_size=60, font_family='sans-serif',alpha=1)\n",
    "\n",
    "plt.axis('off')\n",
    "plt.show()"
   ]
  }
 ],
 "metadata": {
  "kernelspec": {
   "display_name": "Python 3",
   "language": "python",
   "name": "python3"
  },
  "language_info": {
   "codemirror_mode": {
    "name": "ipython",
    "version": 3
   },
   "file_extension": ".py",
   "mimetype": "text/x-python",
   "name": "python",
   "nbconvert_exporter": "python",
   "pygments_lexer": "ipython3",
   "version": "3.8.3"
  }
 },
 "nbformat": 4,
 "nbformat_minor": 4
}
